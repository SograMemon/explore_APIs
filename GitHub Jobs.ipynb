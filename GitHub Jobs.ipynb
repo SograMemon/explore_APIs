{
 "cells": [
  {
   "cell_type": "markdown",
   "metadata": {},
   "source": [
    "# GitHub Jobs"
   ]
  },
  {
   "cell_type": "code",
   "execution_count": 2,
   "metadata": {
    "collapsed": true
   },
   "outputs": [],
   "source": [
    "import pandas as pd\n",
    "import json\n",
    "import requests"
   ]
  },
  {
   "cell_type": "code",
   "execution_count": 25,
   "metadata": {
    "collapsed": true
   },
   "outputs": [],
   "source": [
    "description=\"Data\"\n",
    "location= \"Toronto\"\n",
    "page=1"
   ]
  },
  {
   "cell_type": "code",
   "execution_count": 30,
   "metadata": {},
   "outputs": [],
   "source": [
    "url= 'https://jobs.github.com/positions.json?description={}&page={}&location={}'.format(\n",
    "    description,\n",
    "    page,\n",
    "    location)"
   ]
  },
  {
   "cell_type": "code",
   "execution_count": 31,
   "metadata": {},
   "outputs": [
    {
     "data": {
      "text/html": [
       "<div>\n",
       "<style scoped>\n",
       "    .dataframe tbody tr th:only-of-type {\n",
       "        vertical-align: middle;\n",
       "    }\n",
       "\n",
       "    .dataframe tbody tr th {\n",
       "        vertical-align: top;\n",
       "    }\n",
       "\n",
       "    .dataframe thead th {\n",
       "        text-align: right;\n",
       "    }\n",
       "</style>\n",
       "<table border=\"1\" class=\"dataframe\">\n",
       "  <thead>\n",
       "    <tr style=\"text-align: right;\">\n",
       "      <th></th>\n",
       "      <th>id</th>\n",
       "      <th>type</th>\n",
       "      <th>url</th>\n",
       "      <th>created_at</th>\n",
       "      <th>company</th>\n",
       "      <th>company_url</th>\n",
       "      <th>location</th>\n",
       "      <th>title</th>\n",
       "      <th>description</th>\n",
       "      <th>how_to_apply</th>\n",
       "      <th>company_logo</th>\n",
       "    </tr>\n",
       "  </thead>\n",
       "  <tbody>\n",
       "    <tr>\n",
       "      <th>0</th>\n",
       "      <td>09ec1f51-2c6a-4895-a54f-1435caf291b8</td>\n",
       "      <td>Full Time</td>\n",
       "      <td>https://jobs.github.com/positions/09ec1f51-2c6...</td>\n",
       "      <td>Mon Jun 01 13:53:10 UTC 2020</td>\n",
       "      <td>CircleCI</td>\n",
       "      <td>None</td>\n",
       "      <td>Toronto</td>\n",
       "      <td>Staff Software Engineer - Data Platform Engine...</td>\n",
       "      <td>&lt;p&gt;Data is at the very core of the decisions w...</td>\n",
       "      <td>&lt;p&gt;&lt;a href=\"https://boards.greenhouse.io/circl...</td>\n",
       "      <td>https://jobs.github.com/rails/active_storage/b...</td>\n",
       "    </tr>\n",
       "    <tr>\n",
       "      <th>1</th>\n",
       "      <td>9636b280-e12a-11e8-819f-7c947fed1ee2</td>\n",
       "      <td>Full Time</td>\n",
       "      <td>https://jobs.github.com/positions/9636b280-e12...</td>\n",
       "      <td>Mon Nov 05 20:22:43 UTC 2018</td>\n",
       "      <td>Homestars</td>\n",
       "      <td>http://homestars.com</td>\n",
       "      <td>Toronto</td>\n",
       "      <td>Salesforce Engineer</td>\n",
       "      <td>&lt;p&gt;WHO WE ARE:\\nCanadians spend over $70B annu...</td>\n",
       "      <td>&lt;p&gt;Email resume directly to:\\n&lt;a href=\"mailto:...</td>\n",
       "      <td>https://jobs.github.com/rails/active_storage/b...</td>\n",
       "    </tr>\n",
       "  </tbody>\n",
       "</table>\n",
       "</div>"
      ],
      "text/plain": [
       "                                     id       type  \\\n",
       "0  09ec1f51-2c6a-4895-a54f-1435caf291b8  Full Time   \n",
       "1  9636b280-e12a-11e8-819f-7c947fed1ee2  Full Time   \n",
       "\n",
       "                                                 url  \\\n",
       "0  https://jobs.github.com/positions/09ec1f51-2c6...   \n",
       "1  https://jobs.github.com/positions/9636b280-e12...   \n",
       "\n",
       "                     created_at    company           company_url location  \\\n",
       "0  Mon Jun 01 13:53:10 UTC 2020   CircleCI                  None  Toronto   \n",
       "1  Mon Nov 05 20:22:43 UTC 2018  Homestars  http://homestars.com  Toronto   \n",
       "\n",
       "                                               title  \\\n",
       "0  Staff Software Engineer - Data Platform Engine...   \n",
       "1                               Salesforce Engineer    \n",
       "\n",
       "                                         description  \\\n",
       "0  <p>Data is at the very core of the decisions w...   \n",
       "1  <p>WHO WE ARE:\\nCanadians spend over $70B annu...   \n",
       "\n",
       "                                        how_to_apply  \\\n",
       "0  <p><a href=\"https://boards.greenhouse.io/circl...   \n",
       "1  <p>Email resume directly to:\\n<a href=\"mailto:...   \n",
       "\n",
       "                                        company_logo  \n",
       "0  https://jobs.github.com/rails/active_storage/b...  \n",
       "1  https://jobs.github.com/rails/active_storage/b...  "
      ]
     },
     "execution_count": 31,
     "metadata": {},
     "output_type": "execute_result"
    }
   ],
   "source": [
    "results = requests.get(url).json()\n",
    "df= pd.DataFrame(results)\n",
    "df.head()"
   ]
  },
  {
   "cell_type": "code",
   "execution_count": 37,
   "metadata": {},
   "outputs": [
    {
     "data": {
      "text/plain": [
       "'<p>Data is at the very core of the decisions we make at CircleCI. We leverage our wealth of data to help build our product, understand our customers’ needs, and to help those customers make better engineering decisions themselves.</p>\\n<p>We’re looking for a talented, leadership-focused engineer to join the team serving as the stewards of that data - our Data Platform team.</p>\\n<p>The team that you will be a key part of is a talented group of engineers focused on delivering the tools, processes, and products used to get our data into the hands of teams across our organization and to our customers. You will be working on ingesting, curating, and publishing data to and from a variety of sources from our own product to the tools we use to do business.</p>\\n<p>This is a full-time remote role in Canada, hired through our affiliate Continuous Labs.</p>\\n<p><strong>What You’ll do on the Data Platform Engineering Team at CircleCI</strong></p>\\n<ul>\\n<li>Design, build, and automate pipelines for ingesting data from across our product and third-party tools</li>\\n<li>Curate and maintain core data sets that power our most critical business processes and decisions</li>\\n<li>Help select, prototype, architect, and Implement tooling and libraries and build and maintain the infrastructure that support accessing our data in a variety of systems</li>\\n<li>Design and implement the processes that protect our customers’ data privacy through data governance and data security implementations like redaction and access control</li>\\n<li>Participate in an on-call rotation for our data platform services and infrastructure</li>\\n</ul>\\n<p><strong>Experience You Bring To This Role</strong></p>\\n<ul>\\n<li>Prior, proven data platform or data infrastructure experience</li>\\n<li>5+ years of professional experience building and debugging data-focused or infrastructure systems in a SaaS environment</li>\\n<li>You write code that’s easily readable, testable, and maintainable, with an eye towards building in observability from the start.</li>\\n<li>You’re comfortable with modern data engineering and data platform tools and programming languages. Technologies like Python, MongoDB, and Postgres don’t scare you, and you have used tools like Snowflake, Redshift, or BigQuery in previous roles.</li>\\n<li>You’re good at managing the ambiguity of a small, rapidly-growing company: adjusting to changing priorities, making conscious tradeoffs when guidance is limited and information is incomplete, and instituting best practices from scratch when needed.</li>\\n<li>You can adopt a product-first mindset to build quality software that meets the customer’s needs and expectations.</li>\\n</ul>\\n<p><strong>We’re particularly interested in these habits and tendencies</strong></p>\\n<ul>\\n<li>You work transparently and collaboratively within a distributed team.</li>\\n<li>You favor regular, incremental delivery of value over perfection.</li>\\n<li>You’re excited about ensuring that all of our systems-software and human-scale smoothly.</li>\\n<li>You strive for continuous learning and improvement for yourself and your team.</li>\\n</ul>\\n<p>We know there’s no such thing as a \"perfect\" candidate - we’re all a work in progress and are growing new skills and capabilities all the time. CircleCI welcomes those who are enthusiastic about learning and evolving, so however you identify and whatever your background, if this looks like a role where you could do work that excites you, we hope you’ll apply.</p>\\n<p><strong>How to apply:</strong>\\nSubmit your application online via the Apply Now button. Please include a cover letter that describes why you\\'re interested in working for CircleCI and summarize how your experience and career goals fit the qualifications for the position.</p>\\n<p><strong>Distributed teams at CircleCI</strong>\\nWe’re a distributed company with offices in San Francisco, Toronto, Japan, and teammates across the globe. We would be hiring you as a full-time employee based in Canada, with the option to work remotely.</p>\\n<p><strong>About CircleCI</strong>\\nCircleCI is the world’s largest shared continuous integration and continuous delivery (CI/CD) platform, and the central hub where code moves from idea to delivery. As one of the most-used DevOps tools that processes more than 1 million builds a day, CircleCI has unique access to data on how engineering teams work, and how their code runs. Companies like Spotify, Coinbase, Stitch Fix, and BuzzFeed use us to improve engineering team productivity, release better products, and get to market faster.</p>\\n<p>CircleCI is proud to be an Equal Opportunity and Affirmative Action employer. We do not discriminate based upon race, religion, color, national origin, sexual orientation, gender, gender identity, gender expression, transgender status, sexual stereotypes, age, status as a protected veteran, status as an individual with a disability, or other applicable legally protected characteristics. We also consider qualified applicants with criminal histories, consistent with applicable federal, state and local law.</p>\\n'"
      ]
     },
     "execution_count": 37,
     "metadata": {},
     "output_type": "execute_result"
    }
   ],
   "source": [
    "#has the entire description\n",
    "df[\"description\"][0]"
   ]
  },
  {
   "cell_type": "code",
   "execution_count": 33,
   "metadata": {},
   "outputs": [
    {
     "data": {
      "text/plain": [
       "(2, 11)"
      ]
     },
     "execution_count": 33,
     "metadata": {},
     "output_type": "execute_result"
    }
   ],
   "source": [
    "df.shape"
   ]
  },
  {
   "cell_type": "code",
   "execution_count": 34,
   "metadata": {},
   "outputs": [
    {
     "data": {
      "text/html": [
       "<div>\n",
       "<style scoped>\n",
       "    .dataframe tbody tr th:only-of-type {\n",
       "        vertical-align: middle;\n",
       "    }\n",
       "\n",
       "    .dataframe tbody tr th {\n",
       "        vertical-align: top;\n",
       "    }\n",
       "\n",
       "    .dataframe thead th {\n",
       "        text-align: right;\n",
       "    }\n",
       "</style>\n",
       "<table border=\"1\" class=\"dataframe\">\n",
       "  <thead>\n",
       "    <tr style=\"text-align: right;\">\n",
       "      <th></th>\n",
       "      <th>id</th>\n",
       "      <th>type</th>\n",
       "      <th>url</th>\n",
       "      <th>created_at</th>\n",
       "      <th>company</th>\n",
       "      <th>company_url</th>\n",
       "      <th>location</th>\n",
       "      <th>title</th>\n",
       "      <th>description</th>\n",
       "      <th>how_to_apply</th>\n",
       "      <th>company_logo</th>\n",
       "    </tr>\n",
       "  </thead>\n",
       "  <tbody>\n",
       "    <tr>\n",
       "      <th>0</th>\n",
       "      <td>1a1d60b4-8f36-42f8-824f-f6bb1419e7e6</td>\n",
       "      <td>Full Time</td>\n",
       "      <td>https://jobs.github.com/positions/1a1d60b4-8f3...</td>\n",
       "      <td>Thu Jun 11 19:38:37 UTC 2020</td>\n",
       "      <td>Arcadia</td>\n",
       "      <td>https://www.arcadia.com</td>\n",
       "      <td>Washington DC/Remote</td>\n",
       "      <td>Senior DevOps Engineer</td>\n",
       "      <td>&lt;p&gt;Arcadia is a technology company revolutioni...</td>\n",
       "      <td>&lt;p&gt;&lt;a href=\"https://grnh.se/bc1cfbf12us\"&gt;https...</td>\n",
       "      <td>https://jobs.github.com/rails/active_storage/b...</td>\n",
       "    </tr>\n",
       "    <tr>\n",
       "      <th>1</th>\n",
       "      <td>364caf3c-700f-493f-a5bd-721062c77394</td>\n",
       "      <td>Full Time</td>\n",
       "      <td>https://jobs.github.com/positions/364caf3c-700...</td>\n",
       "      <td>Wed Jun 10 15:04:49 UTC 2020</td>\n",
       "      <td>Currencycloud</td>\n",
       "      <td>https://www.currencycloud.com</td>\n",
       "      <td>London</td>\n",
       "      <td>Senior Scala Engineer</td>\n",
       "      <td>&lt;p&gt;&lt;strong&gt;Senior Scala Engineer&lt;/strong&gt;&lt;/p&gt;\\...</td>\n",
       "      <td>&lt;p&gt;&lt;a href=\"mailto:adam.bolton@currencycloud.c...</td>\n",
       "      <td>https://jobs.github.com/rails/active_storage/b...</td>\n",
       "    </tr>\n",
       "    <tr>\n",
       "      <th>2</th>\n",
       "      <td>84af77eb-80ac-4517-a713-6bd940d97173</td>\n",
       "      <td>Full Time</td>\n",
       "      <td>https://jobs.github.com/positions/84af77eb-80a...</td>\n",
       "      <td>Thu Jun 11 11:50:36 UTC 2020</td>\n",
       "      <td>BackHub</td>\n",
       "      <td>https://backhub.co/</td>\n",
       "      <td>Remote</td>\n",
       "      <td>Seeking Software Engineering Talent for SaaS P...</td>\n",
       "      <td>&lt;p&gt;&lt;strong&gt;&lt;a href=\"https://backhub.co/\"&gt;Backh...</td>\n",
       "      <td>&lt;p&gt;&lt;a href=\"https://calendly.com/backhub/get-t...</td>\n",
       "      <td>https://jobs.github.com/rails/active_storage/b...</td>\n",
       "    </tr>\n",
       "    <tr>\n",
       "      <th>3</th>\n",
       "      <td>3f87be14-2b50-4873-9c7d-e4a722a614a1</td>\n",
       "      <td>Full Time</td>\n",
       "      <td>https://jobs.github.com/positions/3f87be14-2b5...</td>\n",
       "      <td>Mon Jun 01 21:10:22 UTC 2020</td>\n",
       "      <td>Bombas</td>\n",
       "      <td>https://bombas.com</td>\n",
       "      <td>New York</td>\n",
       "      <td>Software Engineer</td>\n",
       "      <td>&lt;p&gt;&lt;strong&gt;Job Title:&lt;/strong&gt; Software Engine...</td>\n",
       "      <td>&lt;p&gt;&lt;a href=\"https://boards.greenhouse.io/bomba...</td>\n",
       "      <td>https://jobs.github.com/rails/active_storage/b...</td>\n",
       "    </tr>\n",
       "    <tr>\n",
       "      <th>4</th>\n",
       "      <td>8b9a0efd-d0a2-43ed-a65d-fbf8da95dd71</td>\n",
       "      <td>Full Time</td>\n",
       "      <td>https://jobs.github.com/positions/8b9a0efd-d0a...</td>\n",
       "      <td>Thu May 28 16:10:00 UTC 2020</td>\n",
       "      <td>GOhiring</td>\n",
       "      <td>https://www.gohiring.com/</td>\n",
       "      <td>Remote, Berlin</td>\n",
       "      <td>Senior fullstack developer React / Ruby</td>\n",
       "      <td>&lt;p&gt;We as GOhiring believe that connectivity is...</td>\n",
       "      <td>&lt;p&gt;&lt;a href=\"https://tracking.gohiring.com/h/c4...</td>\n",
       "      <td>https://jobs.github.com/rails/active_storage/b...</td>\n",
       "    </tr>\n",
       "  </tbody>\n",
       "</table>\n",
       "</div>"
      ],
      "text/plain": [
       "                                     id       type  \\\n",
       "0  1a1d60b4-8f36-42f8-824f-f6bb1419e7e6  Full Time   \n",
       "1  364caf3c-700f-493f-a5bd-721062c77394  Full Time   \n",
       "2  84af77eb-80ac-4517-a713-6bd940d97173  Full Time   \n",
       "3  3f87be14-2b50-4873-9c7d-e4a722a614a1  Full Time   \n",
       "4  8b9a0efd-d0a2-43ed-a65d-fbf8da95dd71  Full Time   \n",
       "\n",
       "                                                 url  \\\n",
       "0  https://jobs.github.com/positions/1a1d60b4-8f3...   \n",
       "1  https://jobs.github.com/positions/364caf3c-700...   \n",
       "2  https://jobs.github.com/positions/84af77eb-80a...   \n",
       "3  https://jobs.github.com/positions/3f87be14-2b5...   \n",
       "4  https://jobs.github.com/positions/8b9a0efd-d0a...   \n",
       "\n",
       "                     created_at        company                    company_url  \\\n",
       "0  Thu Jun 11 19:38:37 UTC 2020        Arcadia        https://www.arcadia.com   \n",
       "1  Wed Jun 10 15:04:49 UTC 2020  Currencycloud  https://www.currencycloud.com   \n",
       "2  Thu Jun 11 11:50:36 UTC 2020        BackHub            https://backhub.co/   \n",
       "3  Mon Jun 01 21:10:22 UTC 2020         Bombas             https://bombas.com   \n",
       "4  Thu May 28 16:10:00 UTC 2020       GOhiring      https://www.gohiring.com/   \n",
       "\n",
       "                location                                              title  \\\n",
       "0  Washington DC/Remote                              Senior DevOps Engineer   \n",
       "1                 London                              Senior Scala Engineer   \n",
       "2                 Remote  Seeking Software Engineering Talent for SaaS P...   \n",
       "3               New York                                  Software Engineer   \n",
       "4         Remote, Berlin            Senior fullstack developer React / Ruby   \n",
       "\n",
       "                                         description  \\\n",
       "0  <p>Arcadia is a technology company revolutioni...   \n",
       "1  <p><strong>Senior Scala Engineer</strong></p>\\...   \n",
       "2  <p><strong><a href=\"https://backhub.co/\">Backh...   \n",
       "3  <p><strong>Job Title:</strong> Software Engine...   \n",
       "4  <p>We as GOhiring believe that connectivity is...   \n",
       "\n",
       "                                        how_to_apply  \\\n",
       "0  <p><a href=\"https://grnh.se/bc1cfbf12us\">https...   \n",
       "1  <p><a href=\"mailto:adam.bolton@currencycloud.c...   \n",
       "2  <p><a href=\"https://calendly.com/backhub/get-t...   \n",
       "3  <p><a href=\"https://boards.greenhouse.io/bomba...   \n",
       "4  <p><a href=\"https://tracking.gohiring.com/h/c4...   \n",
       "\n",
       "                                        company_logo  \n",
       "0  https://jobs.github.com/rails/active_storage/b...  \n",
       "1  https://jobs.github.com/rails/active_storage/b...  \n",
       "2  https://jobs.github.com/rails/active_storage/b...  \n",
       "3  https://jobs.github.com/rails/active_storage/b...  \n",
       "4  https://jobs.github.com/rails/active_storage/b...  "
      ]
     },
     "execution_count": 34,
     "metadata": {},
     "output_type": "execute_result"
    }
   ],
   "source": [
    "url= 'https://jobs.github.com/positions.json?description=ruby&page=1'\n",
    "results = requests.get(url).json()\n",
    "df2= pd.DataFrame(results)\n",
    "df2.head()"
   ]
  },
  {
   "cell_type": "code",
   "execution_count": 35,
   "metadata": {},
   "outputs": [
    {
     "data": {
      "text/plain": [
       "(29, 11)"
      ]
     },
     "execution_count": 35,
     "metadata": {},
     "output_type": "execute_result"
    }
   ],
   "source": [
    "df2.shape"
   ]
  },
  {
   "cell_type": "code",
   "execution_count": 41,
   "metadata": {},
   "outputs": [
    {
     "data": {
      "text/html": [
       "<div>\n",
       "<style scoped>\n",
       "    .dataframe tbody tr th:only-of-type {\n",
       "        vertical-align: middle;\n",
       "    }\n",
       "\n",
       "    .dataframe tbody tr th {\n",
       "        vertical-align: top;\n",
       "    }\n",
       "\n",
       "    .dataframe thead th {\n",
       "        text-align: right;\n",
       "    }\n",
       "</style>\n",
       "<table border=\"1\" class=\"dataframe\">\n",
       "  <thead>\n",
       "    <tr style=\"text-align: right;\">\n",
       "      <th></th>\n",
       "      <th>id</th>\n",
       "      <th>type</th>\n",
       "      <th>url</th>\n",
       "      <th>created_at</th>\n",
       "      <th>company</th>\n",
       "      <th>company_url</th>\n",
       "      <th>location</th>\n",
       "      <th>title</th>\n",
       "      <th>description</th>\n",
       "      <th>how_to_apply</th>\n",
       "      <th>company_logo</th>\n",
       "    </tr>\n",
       "  </thead>\n",
       "  <tbody>\n",
       "    <tr>\n",
       "      <th>0</th>\n",
       "      <td>97d82b6d-a32e-4bf4-bee7-12b7d3a82d02</td>\n",
       "      <td>Full Time</td>\n",
       "      <td>https://jobs.github.com/positions/97d82b6d-a32...</td>\n",
       "      <td>Mon Jun 01 15:44:31 UTC 2020</td>\n",
       "      <td>BeMo Academic Consulting Inc.</td>\n",
       "      <td>https://bemoacademicconsulting.com/</td>\n",
       "      <td>North York</td>\n",
       "      <td>Full Stack Web / Applications Developer in Can...</td>\n",
       "      <td>&lt;p&gt;&lt;strong&gt;Important notes:&lt;/strong&gt;&lt;/p&gt;\\n&lt;ul&gt;...</td>\n",
       "      <td>&lt;p&gt;Simple. Send us the following 3 items to ca...</td>\n",
       "      <td>https://jobs.github.com/rails/active_storage/b...</td>\n",
       "    </tr>\n",
       "    <tr>\n",
       "      <th>1</th>\n",
       "      <td>09ec1f51-2c6a-4895-a54f-1435caf291b8</td>\n",
       "      <td>Full Time</td>\n",
       "      <td>https://jobs.github.com/positions/09ec1f51-2c6...</td>\n",
       "      <td>Mon Jun 01 13:53:10 UTC 2020</td>\n",
       "      <td>CircleCI</td>\n",
       "      <td>None</td>\n",
       "      <td>Toronto</td>\n",
       "      <td>Staff Software Engineer - Data Platform Engine...</td>\n",
       "      <td>&lt;p&gt;Data is at the very core of the decisions w...</td>\n",
       "      <td>&lt;p&gt;&lt;a href=\"https://boards.greenhouse.io/circl...</td>\n",
       "      <td>https://jobs.github.com/rails/active_storage/b...</td>\n",
       "    </tr>\n",
       "  </tbody>\n",
       "</table>\n",
       "</div>"
      ],
      "text/plain": [
       "                                     id       type  \\\n",
       "0  97d82b6d-a32e-4bf4-bee7-12b7d3a82d02  Full Time   \n",
       "1  09ec1f51-2c6a-4895-a54f-1435caf291b8  Full Time   \n",
       "\n",
       "                                                 url  \\\n",
       "0  https://jobs.github.com/positions/97d82b6d-a32...   \n",
       "1  https://jobs.github.com/positions/09ec1f51-2c6...   \n",
       "\n",
       "                     created_at                        company  \\\n",
       "0  Mon Jun 01 15:44:31 UTC 2020  BeMo Academic Consulting Inc.   \n",
       "1  Mon Jun 01 13:53:10 UTC 2020                       CircleCI   \n",
       "\n",
       "                           company_url    location  \\\n",
       "0  https://bemoacademicconsulting.com/  North York   \n",
       "1                                 None     Toronto   \n",
       "\n",
       "                                               title  \\\n",
       "0  Full Stack Web / Applications Developer in Can...   \n",
       "1  Staff Software Engineer - Data Platform Engine...   \n",
       "\n",
       "                                         description  \\\n",
       "0  <p><strong>Important notes:</strong></p>\\n<ul>...   \n",
       "1  <p>Data is at the very core of the decisions w...   \n",
       "\n",
       "                                        how_to_apply  \\\n",
       "0  <p>Simple. Send us the following 3 items to ca...   \n",
       "1  <p><a href=\"https://boards.greenhouse.io/circl...   \n",
       "\n",
       "                                        company_logo  \n",
       "0  https://jobs.github.com/rails/active_storage/b...  \n",
       "1  https://jobs.github.com/rails/active_storage/b...  "
      ]
     },
     "execution_count": 41,
     "metadata": {},
     "output_type": "execute_result"
    }
   ],
   "source": [
    "url='https://jobs.github.com/positions.json?page=1&search=code&location=Toronto'\n",
    "results = requests.get(url).json()\n",
    "df3= pd.DataFrame(results)\n",
    "df3.head()"
   ]
  },
  {
   "cell_type": "code",
   "execution_count": 42,
   "metadata": {},
   "outputs": [
    {
     "data": {
      "text/plain": [
       "(2, 11)"
      ]
     },
     "execution_count": 42,
     "metadata": {},
     "output_type": "execute_result"
    }
   ],
   "source": [
    "df3.shape"
   ]
  },
  {
   "cell_type": "code",
   "execution_count": 43,
   "metadata": {},
   "outputs": [
    {
     "data": {
      "text/plain": [
       "'<p><strong>Important notes:</strong></p>\\n<ul>\\n<li>This job post is for individuals. If you are a company, you do not qualify and are discouraged from contacting us</li>\\n<li>Please submit your application according to the procedures highlighted below.</li>\\n<li>You must be from Canada to qualify</li>\\n</ul>\\n<p><strong>Full Stack Web/App Developer: Part-Time Track to Full-Time, Remote</strong></p>\\n<p><strong>Are you the needle in a haystack?</strong></p>\\n<p>Would you like to make sure no one is treated unfairly due to his or her cultural, racial, economical or social status? Would you like to help us create the next generation of educational training and university admissions screening softwares?</p>\\n<p><strong>Here’s a little bit about us:</strong></p>\\n<p>We believe everyone deserves access to higher education regardless of his or her cultural, racial, economical or social status.</p>\\n<p>You\\'ve probably never worked with anyone like us before. We\\'re a dynamic team of practicing professionals, researchers, and scholars, with a passion to help students reach their academic and career goals. We often go above and beyond to deliver the best possible services we can for our students. We take our own medicine and we are constantly training to keep our individual performance and the performance of our company exceptional.</p>\\n<p>In addition, we are also creating the next generation of university admissions screening software to reduce the social, racial and economic bias while being able to select better-suited applicants AND save time and money for universities and employers.</p>\\n<p>We take our role very seriously and contribute to our company on a regular basis whether we work part-time or full-time because we understand the long-term impact of our work. We know how to manage our time and competing demands. We are constantly looking for ways to improve our services and impact and we are not afraid to share our ideas and collaborate with our team members.</p>\\n<p>We put our company and our missions first before our own personal needs and desires. This is not a \"job\" to us. This is a calling. Our passion for mentoring our students and making admissions fair and scientifically sound is what gets us up in the morning. Importantly, we understand that our company is only as great as its individual members. That\\'s how we have become a leading academic consulting firm and that\\'s why we are extremely selective about our team and only pick the very best to join us and we do everything we can to support them.</p>\\n<p><strong>We\\'ll be honest; working at BeMo isn\\'t for everyone.</strong></p>\\n<p>If you are resistant to learn more and continuous coaching because you believe you already know everything about programming, if you are seeking a side job just to make a few bucks, or to add another entry to your resume, if you normally don\\'t pay much attention to detail and your code is always returned by end users full of bugs, or if you are looking for a short-term gig with little impact and growth, then we\\'re probably not right for you.</p>\\n<p><strong>But if this is you, you need to apply now.</strong></p>\\n<p>If you are a fantastic developer with great attention to detail, yet extremely humble, willing to learn more and are not afraid to explore topics that are not your expertise, love to be a part of the team to change the future of higher education and admissions screening, and looking for a long-term mission with significant impact on society, then you need to apply. Now.</p>\\n<p><strong>What we offer:</strong></p>\\n<ul>\\n<li>Be a part of our fast growing, innovative and leading academic consulting firm.</li>\\n<li>Be part of a revolution. We are creating the next generation of candidate selection tools that are light years ahead at selecting best-suited candidates compared to traditional tools, while being fair to applicants.</li>\\n<li>Be part of a team of A-players. We only hire the brightest individuals with the highest caliber, character and courage.</li>\\n<li>Freedom to choose your hours. We don\\'t believe in 9-5. We believe in accomplishments of the highest standard.</li>\\n<li>Freedom to work from anywhere around the world 90% of the time.</li>\\n<li>You never have to go to the \"office\";</li>\\n<li>24/7 support. We don\\'t sleep. If you need our help, we\\'ll be there for you because this means more than just a “job” to us.</li>\\n<li>Make a huge difference in the lives of aspiring future professionals and contribute to our outstanding success rate.</li>\\n<li>Opportunity of shares in our fast growing company for exceptional team members that embody our core values because more than a just developer we are looking for a long-term partner.</li>\\n<li>Full health and dental benefits.</li>\\n<li>Flexible vacation time.</li>\\n</ul>\\n<p><strong>Overview:</strong></p>\\n<p>BeMo has an immediate need for a top caliber full stack developer to help our team in ongoing web development, web application, and web maintenance projects.</p>\\n<p><strong>Roles and responsibilities:</strong></p>\\n<ul>\\n<li>20 hours per week to start - with the possibility for additional hours including full-time status if there is a great fit. NOTE: ideally we are looking for someone to start as part-time and then transition to full-time.</li>\\n<li>Create and test new webpages on our websites with specific functionality and excellent attention to user interface.</li>\\n<li>Optimizing existing web pages on our website based on specific directions from our marketing director and senior developer.</li>\\n<li>Development and testing of a new web application including the next generation of admissions screening softwares.</li>\\n</ul>\\n<p><strong>Qualifications &amp; Education Requirements:</strong></p>\\n<ul>\\n<li>A Bachelor’s Degree in Computer Science, Computer Engineering, Software Engineering, or related fields.</li>\\n<li>Front and back-end knowledge and experience are a must.</li>\\n<li>Expertise in programming with PHP, HTML5, JavaScript, CSS, MySQL, Laravel, CentOs and shell script are an asset.\\nMust have a minimum of 2-5 years of verifiable paid successful work as a developer.</li>\\n</ul>\\n<p><strong>Required Skills:</strong></p>\\n<ul>\\n<li>Extremely detail-oriented and organized.</li>\\n<li>Extremely humble and eager to learn.</li>\\n<li>Ability to manage multiple projects simultaneously and thrive in a fast-paced, deadline driven environment.</li>\\n<li>Proactive and self-motivated; ability to take initiative.</li>\\n<li>Ability to quickly learn new programming skills when required.</li>\\n<li>Ability to act independently with very little supervision and great work ethic.</li>\\n<li>Ability to handle sensitive information with the highest degree of integrity and confidentiality.</li>\\n<li>Excellent project/workflow management skills, and strong problem solving skills.</li>\\n<li>Excellent analytical skills.</li>\\n<li>Demonstrate a growth mindset (e.g., embrace latest technology, innovate methods/tools, etc.)</li>\\n<li>Must be looking for a long-term position with opportunity for growth.</li>\\n</ul>\\n<p><strong>How to apply:</strong></p>\\n<p>Simple. Send us the following 3 items to careers [at] bemoacademicconsulting.com</p>\\n<ol>\\n<li>\\n<p>Your skill level on a scale of 1 to 7 for each of the following: Front-end, back-end, PHP, HTML5, JavaScript, CSS, MySQL, Laravel, CentOs, shell script(1= little experience and expertise, 7 = world-class expertise with verifiable awards)</p>\\n</li>\\n<li>\\n<p>Indicate where you are located in Canada. E.g. Toronto, Canada (Applicants are required to be located in Canada even though the job is remote)</p>\\n</li>\\n<li>\\n<p>Your resume highlighting relevant paid experience and educational requirement indicated above.</p>\\n</li>\\n</ol>\\n<p>Please quote job #33177 on the subject line of your email.</p>\\n<p>We won’t be able to individually respond to all applicants, but if we feel you’re a strong match, we will be in touch via email to schedule you for an interview. Thanks and we look forward to hearing from you!</p>\\n'"
      ]
     },
     "execution_count": 43,
     "metadata": {},
     "output_type": "execute_result"
    }
   ],
   "source": [
    "df3[\"description\"][0]"
   ]
  },
  {
   "cell_type": "code",
   "execution_count": null,
   "metadata": {
    "collapsed": true
   },
   "outputs": [],
   "source": []
  }
 ],
 "metadata": {
  "kernelspec": {
   "display_name": "Python 3",
   "language": "python",
   "name": "python3"
  },
  "language_info": {
   "codemirror_mode": {
    "name": "ipython",
    "version": 3
   },
   "file_extension": ".py",
   "mimetype": "text/x-python",
   "name": "python",
   "nbconvert_exporter": "python",
   "pygments_lexer": "ipython3",
   "version": "3.6.9"
  }
 },
 "nbformat": 4,
 "nbformat_minor": 2
}
